{
 "cells": [
  {
   "cell_type": "code",
   "execution_count": 1,
   "metadata": {},
   "outputs": [],
   "source": [
    "import pandas as pd\n",
    "import numpy as np\n",
    "from knn import knn"
   ]
  },
  {
   "cell_type": "code",
   "execution_count": 2,
   "metadata": {},
   "outputs": [
    {
     "name": "stdout",
     "output_type": "stream",
     "text": [
      "<class 'pandas.core.frame.DataFrame'>\n",
      "RangeIndex: 105 entries, 0 to 104\n",
      "Data columns (total 5 columns):\n",
      " #   Column         Non-Null Count  Dtype  \n",
      "---  ------         --------------  -----  \n",
      " 0   No             105 non-null    int64  \n",
      " 1   Weight         105 non-null    float64\n",
      " 2   Length         105 non-null    float64\n",
      " 3   Circumference  105 non-null    float64\n",
      " 4   Grade          105 non-null    object \n",
      "dtypes: float64(3), int64(1), object(1)\n",
      "memory usage: 4.2+ KB\n"
     ]
    }
   ],
   "source": [
    "#open data mangga\n",
    "df=pd.read_csv('data-2023-01-18.csv')\n",
    "df.info()"
   ]
  },
  {
   "cell_type": "code",
   "execution_count": 3,
   "metadata": {},
   "outputs": [
    {
     "name": "stdout",
     "output_type": "stream",
     "text": [
      "      No  Weight  Length  Circumference  Grade\n",
      "0      1   486.5    14.0           27.0      0\n",
      "1      2   388.4    12.0           26.0      0\n",
      "2      3   493.7    12.0           26.5      0\n",
      "3      4   342.5    10.0           24.3      0\n",
      "4      5   401.5    11.0           25.0      0\n",
      "..   ...     ...     ...            ...    ...\n",
      "100  101   296.0    11.7           22.2      2\n",
      "101  102   306.1    11.9           22.7      2\n",
      "102  103   240.0    10.2           20.8      2\n",
      "103  104   268.4    10.7           20.9      2\n",
      "104  105   275.3    10.8           21.2      2\n",
      "\n",
      "[105 rows x 5 columns]\n"
     ]
    }
   ],
   "source": [
    "#label encode\n",
    "from sklearn.preprocessing import LabelEncoder\n",
    "le=LabelEncoder()\n",
    "le.fit(df['Grade'])\n",
    "\n",
    "df['Grade']=le.transform(df['Grade'])\n",
    "\n",
    "print(df)"
   ]
  },
  {
   "cell_type": "code",
   "execution_count": 4,
   "metadata": {},
   "outputs": [
    {
     "name": "stdout",
     "output_type": "stream",
     "text": [
      "Akurasi 0.94\n"
     ]
    }
   ],
   "source": [
    "#prediksi\n",
    "from sklearn.model_selection import train_test_split\n",
    "\n",
    "\n",
    "X2=df.iloc[:,:4].to_numpy()\n",
    "y2=df.iloc[:,-1].to_numpy()\n",
    "\n",
    "#split\n",
    "X2_train,X2_test,Y2_train,Y2_test=train_test_split(X2,y2,test_size=0.3,random_state=49)\n",
    "\n",
    "kelas=knn()\n",
    "kelas.fit(X2_train,Y2_train)\n",
    "predict=kelas.predict(X2_test)\n",
    "\n",
    "def accuracy(ypred,y_test):\n",
    "    return np.sum(ypred==y_test)/len(y_test)\n",
    "\n",
    "acc=accuracy(predict,Y2_test)\n",
    "\n",
    "print(f\"Akurasi {acc:0.2f}\")\n"
   ]
  }
 ],
 "metadata": {
  "kernelspec": {
   "display_name": "base",
   "language": "python",
   "name": "python3"
  },
  "language_info": {
   "codemirror_mode": {
    "name": "ipython",
    "version": 3
   },
   "file_extension": ".py",
   "mimetype": "text/x-python",
   "name": "python",
   "nbconvert_exporter": "python",
   "pygments_lexer": "ipython3",
   "version": "3.11.5"
  }
 },
 "nbformat": 4,
 "nbformat_minor": 2
}
